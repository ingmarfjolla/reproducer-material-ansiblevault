{
 "cells": [
  {
   "cell_type": "code",
   "execution_count": null,
   "metadata": {},
   "outputs": [],
   "source": [
    "from sklearn.feature_extraction.text import CountVectorizer\n",
    "from sklearn.decomposition import LatentDirichletAllocation\n",
    "import pandas as pd\n",
    "\n",
    "file_path = '/vault_issues.csv'\n",
    "data = pd.read_csv(file_path)\n",
    "combined_texts = data['Title'].fillna('') + \" \" + data['Body'].fillna('')\n",
    "vectorizer = CountVectorizer(max_df=0.95, min_df=2, stop_words='english')\n",
    "text_vectorized = vectorizer.fit_transform(combined_texts)\n",
    "lda = LatentDirichletAllocation(n_components=10, random_state=0)\n",
    "lda.fit(text_vectorized)\n",
    "\n",
    "def display_topics(model, feature_names, no_top_words):\n",
    "    topic_summary = {}\n",
    "    for topic_idx, topic in enumerate(model.components_):\n",
    "        topic_top_words = [feature_names[i] for i in topic.argsort()[:-no_top_words - 1:-1]]\n",
    "        topic_summary[f\"Topic {topic_idx}\"] = topic_top_words\n",
    "    return topic_summary\n",
    "no_top_words = 10\n",
    "topic_summary = display_topics(lda, vectorizer.get_feature_names_out(), no_top_words)\n",
    "print(topic_summary)"
   ]
  }
 ],
 "metadata": {
  "language_info": {
   "name": "python"
  }
 },
 "nbformat": 4,
 "nbformat_minor": 2
}
